{
 "cells": [
  {
   "cell_type": "code",
   "execution_count": 3,
   "id": "44032cc6-b941-4716-8b80-9f3fb12af4d4",
   "metadata": {},
   "outputs": [],
   "source": [
    "import pandas as pd\n",
    "from sklearn.model_selection import train_test_split"
   ]
  },
  {
   "cell_type": "code",
   "execution_count": 4,
   "id": "37890f0a-d0c1-48c1-84e1-10e9ea9a4b54",
   "metadata": {},
   "outputs": [],
   "source": [
    "# Leer csv con labels\n",
    "DATA_PATH = \"data/\"\n",
    "df = pd.read_csv(DATA_PATH + \"labels.csv\")"
   ]
  },
  {
   "cell_type": "code",
   "execution_count": 5,
   "id": "a14c2ce2-bbdc-480f-a42c-e819efd0e6a0",
   "metadata": {},
   "outputs": [
    {
     "data": {
      "text/html": [
       "<div>\n",
       "<style scoped>\n",
       "    .dataframe tbody tr th:only-of-type {\n",
       "        vertical-align: middle;\n",
       "    }\n",
       "\n",
       "    .dataframe tbody tr th {\n",
       "        vertical-align: top;\n",
       "    }\n",
       "\n",
       "    .dataframe thead th {\n",
       "        text-align: right;\n",
       "    }\n",
       "</style>\n",
       "<table border=\"1\" class=\"dataframe\">\n",
       "  <thead>\n",
       "    <tr style=\"text-align: right;\">\n",
       "      <th></th>\n",
       "      <th>isic_id</th>\n",
       "      <th>malignant</th>\n",
       "    </tr>\n",
       "  </thead>\n",
       "  <tbody>\n",
       "    <tr>\n",
       "      <th>0</th>\n",
       "      <td>ISIC_0015670</td>\n",
       "      <td>0.0</td>\n",
       "    </tr>\n",
       "    <tr>\n",
       "      <th>1</th>\n",
       "      <td>ISIC_0015845</td>\n",
       "      <td>0.0</td>\n",
       "    </tr>\n",
       "    <tr>\n",
       "      <th>2</th>\n",
       "      <td>ISIC_0015864</td>\n",
       "      <td>0.0</td>\n",
       "    </tr>\n",
       "    <tr>\n",
       "      <th>3</th>\n",
       "      <td>ISIC_0015902</td>\n",
       "      <td>0.0</td>\n",
       "    </tr>\n",
       "    <tr>\n",
       "      <th>4</th>\n",
       "      <td>ISIC_0024200</td>\n",
       "      <td>0.0</td>\n",
       "    </tr>\n",
       "  </tbody>\n",
       "</table>\n",
       "</div>"
      ],
      "text/plain": [
       "        isic_id  malignant\n",
       "0  ISIC_0015670        0.0\n",
       "1  ISIC_0015845        0.0\n",
       "2  ISIC_0015864        0.0\n",
       "3  ISIC_0015902        0.0\n",
       "4  ISIC_0024200        0.0"
      ]
     },
     "execution_count": 5,
     "metadata": {},
     "output_type": "execute_result"
    }
   ],
   "source": [
    "df.head(5)"
   ]
  },
  {
   "cell_type": "code",
   "execution_count": 6,
   "id": "05f1a9fb-05e9-4f64-afbd-6224680feab8",
   "metadata": {},
   "outputs": [],
   "source": [
    "# Definición de tamaño conjunto de entrenamiento, validación y test\n",
    "SPLIT_SIZE = 0.8\n",
    "VAL_SIZE = 0.15\n",
    "SEED = 2025 # Para hacer el split determinista. Tener reproducibilidad"
   ]
  },
  {
   "cell_type": "code",
   "execution_count": 8,
   "id": "b01a284e-24ee-45f9-81a4-eab1213fbd2d",
   "metadata": {},
   "outputs": [],
   "source": [
    "# Crear datasets/ids de entrenamiento, validación y test\n",
    "temp_df, test_df = train_test_split(\n",
    "    df,\n",
    "    train_size=SPLIT_SIZE,\n",
    "    random_state=SEED,\n",
    "    stratify=df[\"malignant\"]\n",
    ")\n",
    "\n",
    "train_df, val_df = train_test_split(\n",
    "    temp_df,\n",
    "    train_size=(1 - VAL_SIZE),\n",
    "    random_state=SEED,\n",
    "    stratify=temp_df[\"malignant\"]\n",
    ")"
   ]
  },
  {
   "cell_type": "code",
   "execution_count": 9,
   "id": "e01c9c26-6da9-4883-88c4-6e7718611ec4",
   "metadata": {},
   "outputs": [],
   "source": [
    "# Guardar archivos\n",
    "train_df.to_csv(DATA_PATH + \"train_split.csv\")\n",
    "val_df.to_csv(DATA_PATH + \"validation_split.csv\")\n",
    "test_df.to_csv(DATA_PATH + \"test_split.csv\")"
   ]
  },
  {
   "cell_type": "code",
   "execution_count": null,
   "id": "1e58a16a-9bda-4f40-ab9b-332f97b0b659",
   "metadata": {},
   "outputs": [],
   "source": []
  }
 ],
 "metadata": {
  "kernelspec": {
   "display_name": "Python 3 (ipykernel)",
   "language": "python",
   "name": "python3"
  },
  "language_info": {
   "codemirror_mode": {
    "name": "ipython",
    "version": 3
   },
   "file_extension": ".py",
   "mimetype": "text/x-python",
   "name": "python",
   "nbconvert_exporter": "python",
   "pygments_lexer": "ipython3",
   "version": "3.10.16"
  }
 },
 "nbformat": 4,
 "nbformat_minor": 5
}
