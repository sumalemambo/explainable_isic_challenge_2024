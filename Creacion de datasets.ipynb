{
 "cells": [
  {
   "cell_type": "code",
   "execution_count": 1,
   "id": "50acbe9c-9d17-42c2-8336-7aa384317754",
   "metadata": {},
   "outputs": [],
   "source": [
    "import numpy as np\n",
    "import pandas as pd\n",
    "import os\n",
    "from sklearn.model_selection import train_test_split\n",
    "import glob"
   ]
  },
  {
   "cell_type": "code",
   "execution_count": 2,
   "id": "3b35666b-e35c-45f9-b137-d854dc007909",
   "metadata": {},
   "outputs": [],
   "source": [
    "# Paths y nombres\n",
    "DATA_PATH = \"winner_data/\"\n",
    "METADATA_PATH = os.path.join(DATA_PATH, \"metadata/\")\n",
    "\n",
    "IMAGES_PATH = os.path.join(DATA_PATH, \"images/\")\n",
    "SYNTHETIC_DATA_PATH = os.path.join(\"winner_data/\")\n",
    "\n",
    "ORIGINAL_TRAIN_METADATA_CSV_PATH = os.path.join(METADATA_PATH, \"train-metadata.csv\") # DF original con ISIC_ID y MALIGNANT\n",
    "FOLDS_CSV_PATH = os.path.join(METADATA_PATH, \"folds.csv\") # DF con ISIC_ID original y FOLD para entrenamiento\n",
    "\n",
    "ORIGINAL_IMAGES_PATH = os.path.join(IMAGES_PATH, \"original/\")\n",
    "SYNTHETIC_IMAGES_PATH = os.path.join(IMAGES_PATH, \"synthetic/\")\n",
    "\n",
    "# Imagenes originales y sinteticas con distinta extension\n",
    "ORIGINAL_IMAGE_EXTENSION = \".jpg\"\n",
    "SYNTHETIC_IMAGE_EXTENSION = \".png\"\n",
    "\n",
    "# Nombres para guardar csv procesados\n",
    "OUTPUT_TRAIN_ORIGINAL_DF_FILENAME = \"train_original.csv\"\n",
    "OUTPUT_VAL_DF_FILENAME = \"val.csv\"\n",
    "OUTPUT_TEST_DF_FILENAME = \"test.csv\"\n",
    "OUTPUT_SYNTHETIC_DF_FILENAME = \"synthetic.csv\"\n",
    "\n",
    "OUTPUT_TRAIN_ORIGINAL_DF_PATH = os.path.join(METADATA_PATH, OUTPUT_TRAIN_ORIGINAL_DF_FILENAME)\n",
    "OUTPUT_VAL_DF_PATH = os.path.join(METADATA_PATH, OUTPUT_VAL_DF_FILENAME)\n",
    "OUTPUT_TEST_DF_PATH = os.path.join(METADATA_PATH, OUTPUT_TEST_DF_FILENAME)\n",
    "OUTPUT_SYNTHETIC_DF_PATH = os.path.join(METADATA_PATH, OUTPUT_SYNTHETIC_DF_FILENAME)"
   ]
  },
  {
   "cell_type": "code",
   "execution_count": 3,
   "id": "cf57ef3c-1312-41df-8af7-c489bfba3688",
   "metadata": {},
   "outputs": [
    {
     "name": "stdout",
     "output_type": "stream",
     "text": [
      "winner_data/metadata/train_original.csv winner_data/metadata/val.csv winner_data/metadata/test.csv\n"
     ]
    }
   ],
   "source": [
    "print(OUTPUT_TRAIN_ORIGINAL_DF_PATH, OUTPUT_VAL_DF_PATH, OUTPUT_TEST_DF_PATH)"
   ]
  },
  {
   "cell_type": "markdown",
   "id": "0c453d78-5437-4f8b-88be-1a9aaae2e797",
   "metadata": {},
   "source": [
    "## 1. Procesamiento datos originales"
   ]
  },
  {
   "cell_type": "code",
   "execution_count": 4,
   "id": "f7ce4bb7-3891-47fc-9c9d-ae9288fca7c4",
   "metadata": {},
   "outputs": [
    {
     "name": "stderr",
     "output_type": "stream",
     "text": [
      "C:\\Users\\epsilon\\AppData\\Local\\Temp\\ipykernel_26600\\3181115183.py:2: DtypeWarning: Columns (51,52) have mixed types. Specify dtype option on import or set low_memory=False.\n",
      "  original_train_metadata_df = pd.read_csv(ORIGINAL_TRAIN_METADATA_CSV_PATH)\n"
     ]
    }
   ],
   "source": [
    "# Leer csv con datos originales y target\n",
    "original_train_metadata_df = pd.read_csv(ORIGINAL_TRAIN_METADATA_CSV_PATH)\n",
    "original_train_metadata_df = original_train_metadata_df.rename(columns={\"malignant\": \"target\"})\n",
    "original_train_metadata_df[\"target\"] = original_train_metadata_df[\"target\"].astype(int)\n",
    "original_train_metadata_df = original_train_metadata_df[[\"isic_id\", \"target\"]]"
   ]
  },
  {
   "cell_type": "code",
   "execution_count": 56,
   "id": "ecd0dcba-c355-4eb4-8740-5de3b641d0c2",
   "metadata": {},
   "outputs": [
    {
     "data": {
      "text/html": [
       "<div>\n",
       "<style scoped>\n",
       "    .dataframe tbody tr th:only-of-type {\n",
       "        vertical-align: middle;\n",
       "    }\n",
       "\n",
       "    .dataframe tbody tr th {\n",
       "        vertical-align: top;\n",
       "    }\n",
       "\n",
       "    .dataframe thead th {\n",
       "        text-align: right;\n",
       "    }\n",
       "</style>\n",
       "<table border=\"1\" class=\"dataframe\">\n",
       "  <thead>\n",
       "    <tr style=\"text-align: right;\">\n",
       "      <th></th>\n",
       "      <th>isic_id</th>\n",
       "      <th>target</th>\n",
       "    </tr>\n",
       "  </thead>\n",
       "  <tbody>\n",
       "    <tr>\n",
       "      <th>0</th>\n",
       "      <td>ISIC_0015670</td>\n",
       "      <td>0</td>\n",
       "    </tr>\n",
       "    <tr>\n",
       "      <th>1</th>\n",
       "      <td>ISIC_0015845</td>\n",
       "      <td>0</td>\n",
       "    </tr>\n",
       "    <tr>\n",
       "      <th>2</th>\n",
       "      <td>ISIC_0015864</td>\n",
       "      <td>0</td>\n",
       "    </tr>\n",
       "    <tr>\n",
       "      <th>3</th>\n",
       "      <td>ISIC_0015902</td>\n",
       "      <td>0</td>\n",
       "    </tr>\n",
       "    <tr>\n",
       "      <th>4</th>\n",
       "      <td>ISIC_0024200</td>\n",
       "      <td>0</td>\n",
       "    </tr>\n",
       "  </tbody>\n",
       "</table>\n",
       "</div>"
      ],
      "text/plain": [
       "        isic_id  target\n",
       "0  ISIC_0015670       0\n",
       "1  ISIC_0015845       0\n",
       "2  ISIC_0015864       0\n",
       "3  ISIC_0015902       0\n",
       "4  ISIC_0024200       0"
      ]
     },
     "execution_count": 56,
     "metadata": {},
     "output_type": "execute_result"
    }
   ],
   "source": [
    "original_train_metadata_df.head(5)"
   ]
  },
  {
   "cell_type": "code",
   "execution_count": 12,
   "id": "8eddd482-f7a6-4f6c-9bbb-d5da923d0aae",
   "metadata": {},
   "outputs": [
    {
     "data": {
      "text/plain": [
       "target\n",
       "0    99.902009\n",
       "1     0.097991\n",
       "Name: proportion, dtype: float64"
      ]
     },
     "execution_count": 12,
     "metadata": {},
     "output_type": "execute_result"
    }
   ],
   "source": [
    "original_train_metadata_df[\"target\"].value_counts(1) * 100"
   ]
  },
  {
   "cell_type": "code",
   "execution_count": 10,
   "id": "70a75743-8977-495e-a5ed-921bd427012a",
   "metadata": {},
   "outputs": [
    {
     "data": {
      "text/plain": [
       "401059"
      ]
     },
     "execution_count": 10,
     "metadata": {},
     "output_type": "execute_result"
    }
   ],
   "source": [
    "len(original_train_metadata_df)"
   ]
  },
  {
   "cell_type": "code",
   "execution_count": 57,
   "id": "67030682-bd64-4d94-902b-6d8e5a59cf1a",
   "metadata": {},
   "outputs": [],
   "source": [
    "# Agregar columna image_path. Caso imagenes originales\n",
    "original_train_metadata_df[\"image_path\"] = original_train_metadata_df[\"isic_id\"].apply(\n",
    "    lambda x: os.path.join(ORIGINAL_IMAGES_PATH, x + ORIGINAL_IMAGE_EXTENSION)\n",
    ")"
   ]
  },
  {
   "cell_type": "code",
   "execution_count": 58,
   "id": "178bdebd-12b8-4438-ac26-301870991e46",
   "metadata": {},
   "outputs": [
    {
     "data": {
      "text/html": [
       "<div>\n",
       "<style scoped>\n",
       "    .dataframe tbody tr th:only-of-type {\n",
       "        vertical-align: middle;\n",
       "    }\n",
       "\n",
       "    .dataframe tbody tr th {\n",
       "        vertical-align: top;\n",
       "    }\n",
       "\n",
       "    .dataframe thead th {\n",
       "        text-align: right;\n",
       "    }\n",
       "</style>\n",
       "<table border=\"1\" class=\"dataframe\">\n",
       "  <thead>\n",
       "    <tr style=\"text-align: right;\">\n",
       "      <th></th>\n",
       "      <th>isic_id</th>\n",
       "      <th>target</th>\n",
       "      <th>image_path</th>\n",
       "    </tr>\n",
       "  </thead>\n",
       "  <tbody>\n",
       "    <tr>\n",
       "      <th>0</th>\n",
       "      <td>ISIC_0015670</td>\n",
       "      <td>0</td>\n",
       "      <td>winner_data/images/original/ISIC_0015670.jpg</td>\n",
       "    </tr>\n",
       "    <tr>\n",
       "      <th>1</th>\n",
       "      <td>ISIC_0015845</td>\n",
       "      <td>0</td>\n",
       "      <td>winner_data/images/original/ISIC_0015845.jpg</td>\n",
       "    </tr>\n",
       "    <tr>\n",
       "      <th>2</th>\n",
       "      <td>ISIC_0015864</td>\n",
       "      <td>0</td>\n",
       "      <td>winner_data/images/original/ISIC_0015864.jpg</td>\n",
       "    </tr>\n",
       "    <tr>\n",
       "      <th>3</th>\n",
       "      <td>ISIC_0015902</td>\n",
       "      <td>0</td>\n",
       "      <td>winner_data/images/original/ISIC_0015902.jpg</td>\n",
       "    </tr>\n",
       "    <tr>\n",
       "      <th>4</th>\n",
       "      <td>ISIC_0024200</td>\n",
       "      <td>0</td>\n",
       "      <td>winner_data/images/original/ISIC_0024200.jpg</td>\n",
       "    </tr>\n",
       "  </tbody>\n",
       "</table>\n",
       "</div>"
      ],
      "text/plain": [
       "        isic_id  target                                    image_path\n",
       "0  ISIC_0015670       0  winner_data/images/original/ISIC_0015670.jpg\n",
       "1  ISIC_0015845       0  winner_data/images/original/ISIC_0015845.jpg\n",
       "2  ISIC_0015864       0  winner_data/images/original/ISIC_0015864.jpg\n",
       "3  ISIC_0015902       0  winner_data/images/original/ISIC_0015902.jpg\n",
       "4  ISIC_0024200       0  winner_data/images/original/ISIC_0024200.jpg"
      ]
     },
     "execution_count": 58,
     "metadata": {},
     "output_type": "execute_result"
    }
   ],
   "source": [
    "original_train_metadata_df.head(5)"
   ]
  },
  {
   "cell_type": "code",
   "execution_count": 59,
   "id": "95ddf490-78bd-415b-ac5e-a384f146060f",
   "metadata": {},
   "outputs": [],
   "source": [
    "# Definición de tamaño conjunto de entrenamiento, validación y test\n",
    "TRAIN_TEST_SPLIT_SIZE = 0.8\n",
    "VAL_SPLIT_SIZE = 0.15\n",
    "SEED = 2025"
   ]
  },
  {
   "cell_type": "code",
   "execution_count": 60,
   "id": "ab4098f7-5150-4273-8d98-66014d96087a",
   "metadata": {},
   "outputs": [],
   "source": [
    "# Crear datasets/ids de entrenamiento, validación y test\n",
    "temp_df, test_df = train_test_split(\n",
    "    original_train_metadata_df,\n",
    "    train_size=TRAIN_TEST_SPLIT_SIZE,\n",
    "    random_state=SEED,\n",
    "    stratify=original_train_metadata_df[\"target\"]\n",
    ")\n",
    "\n",
    "train_df, val_df = train_test_split(\n",
    "    temp_df,\n",
    "    train_size=(1 - VAL_SPLIT_SIZE),\n",
    "    random_state=SEED,\n",
    "    stratify=temp_df[\"target\"]\n",
    ")"
   ]
  },
  {
   "cell_type": "code",
   "execution_count": 61,
   "id": "8b9d1793-b1b3-44c9-8f12-665ef4717c42",
   "metadata": {},
   "outputs": [
    {
     "name": "stdout",
     "output_type": "stream",
     "text": [
      "N train imagenes originales: 818157, % : 0.68\n",
      "N val: 144384, % : 0.12\n",
      "N test: 240636, % : 0.2\n"
     ]
    }
   ],
   "source": [
    "print(f\"N train imagenes originales: {train_df.size}, % : {np.round(train_df.size / original_train_metadata_df.size, 2)}\")\n",
    "print(f\"N val: {val_df.size}, % : {np.round(val_df.size / original_train_metadata_df.size, 2)}\")\n",
    "print(f\"N test: {test_df.size}, % : {np.round(test_df.size / original_train_metadata_df.size, 2)}\")"
   ]
  },
  {
   "cell_type": "code",
   "execution_count": 62,
   "id": "79f41206-88f5-4311-8083-08251244774d",
   "metadata": {},
   "outputs": [],
   "source": [
    "# Guardar csv split originales\n",
    "train_df.to_csv(OUTPUT_TRAIN_ORIGINAL_DF_PATH, index=False)\n",
    "val_df.to_csv(OUTPUT_VAL_DF_PATH, index=False)\n",
    "test_df.to_csv(OUTPUT_TEST_DF_PATH, index=False)"
   ]
  },
  {
   "cell_type": "markdown",
   "id": "ce466852-fb75-4ba0-8914-74a094bfd95e",
   "metadata": {},
   "source": [
    "## 2. Procesamiento datos sinteticos"
   ]
  },
  {
   "cell_type": "code",
   "execution_count": 63,
   "id": "578075b5-9269-47fa-99ab-4e8d4418a759",
   "metadata": {},
   "outputs": [
    {
     "data": {
      "text/plain": [
       "[0, 1, 2, 3, 4]"
      ]
     },
     "execution_count": 63,
     "metadata": {},
     "output_type": "execute_result"
    }
   ],
   "source": [
    "# N Folds\n",
    "unique_sorted_folds = [i for i in range(0, 5)]\n",
    "unique_sorted_folds"
   ]
  },
  {
   "cell_type": "code",
   "execution_count": 64,
   "id": "8f7e5592-a420-41c0-8520-0a234cd54627",
   "metadata": {},
   "outputs": [],
   "source": [
    "synthetic_images_data = []\n",
    "\n",
    "# Iterar por cada fold, por cada carpeta hr, lr y añadir path de imagenes sinteticas a df\n",
    "images_type = [\"/lr\", \"/hr\"] # Tipos de imagen low res y high res\n",
    "for fold in unique_sorted_folds:\n",
    "    for image_type in images_type:\n",
    "        # Subdirectorio hr o lr donde estan las imagenes\n",
    "        synthetic_images_subdir = os.path.join(SYNTHETIC_IMAGES_PATH, str(fold) + image_type)\n",
    "        pattern = \"*\" + SYNTHETIC_IMAGE_EXTENSION # Patron para seleccionar imagenes\n",
    "        found_files = glob.glob(os.path.join(synthetic_images_subdir, pattern)) # NO PRINTEAR O CRASH\n",
    "\n",
    "        # Guardar fila\n",
    "        for synthetic_image_path in found_files:\n",
    "            synthetic_images_data.append({\n",
    "                \"target\": 1,\n",
    "                \"image_path\": synthetic_image_path\n",
    "            })"
   ]
  },
  {
   "cell_type": "code",
   "execution_count": 65,
   "id": "811d219b-fd6d-4580-8ade-7957952f47d9",
   "metadata": {},
   "outputs": [],
   "source": [
    "# Crear dataframe metadata sintetica\n",
    "synthetic_df = pd.DataFrame(synthetic_images_data)"
   ]
  },
  {
   "cell_type": "code",
   "execution_count": 66,
   "id": "c6cc2024-767e-4d27-95a5-8792bf7a4bc8",
   "metadata": {},
   "outputs": [
    {
     "data": {
      "text/html": [
       "<div>\n",
       "<style scoped>\n",
       "    .dataframe tbody tr th:only-of-type {\n",
       "        vertical-align: middle;\n",
       "    }\n",
       "\n",
       "    .dataframe tbody tr th {\n",
       "        vertical-align: top;\n",
       "    }\n",
       "\n",
       "    .dataframe thead th {\n",
       "        text-align: right;\n",
       "    }\n",
       "</style>\n",
       "<table border=\"1\" class=\"dataframe\">\n",
       "  <thead>\n",
       "    <tr style=\"text-align: right;\">\n",
       "      <th></th>\n",
       "      <th>target</th>\n",
       "      <th>image_path</th>\n",
       "    </tr>\n",
       "  </thead>\n",
       "  <tbody>\n",
       "    <tr>\n",
       "      <th>0</th>\n",
       "      <td>1</td>\n",
       "      <td>winner_data/images/synthetic/0/lr\\00047c6d-ca1...</td>\n",
       "    </tr>\n",
       "    <tr>\n",
       "      <th>1</th>\n",
       "      <td>1</td>\n",
       "      <td>winner_data/images/synthetic/0/lr\\00808b91-e14...</td>\n",
       "    </tr>\n",
       "    <tr>\n",
       "      <th>2</th>\n",
       "      <td>1</td>\n",
       "      <td>winner_data/images/synthetic/0/lr\\008dcaf9-71b...</td>\n",
       "    </tr>\n",
       "    <tr>\n",
       "      <th>3</th>\n",
       "      <td>1</td>\n",
       "      <td>winner_data/images/synthetic/0/lr\\009d9c71-b0d...</td>\n",
       "    </tr>\n",
       "    <tr>\n",
       "      <th>4</th>\n",
       "      <td>1</td>\n",
       "      <td>winner_data/images/synthetic/0/lr\\00b846be-652...</td>\n",
       "    </tr>\n",
       "  </tbody>\n",
       "</table>\n",
       "</div>"
      ],
      "text/plain": [
       "   target                                         image_path\n",
       "0       1  winner_data/images/synthetic/0/lr\\00047c6d-ca1...\n",
       "1       1  winner_data/images/synthetic/0/lr\\00808b91-e14...\n",
       "2       1  winner_data/images/synthetic/0/lr\\008dcaf9-71b...\n",
       "3       1  winner_data/images/synthetic/0/lr\\009d9c71-b0d...\n",
       "4       1  winner_data/images/synthetic/0/lr\\00b846be-652..."
      ]
     },
     "execution_count": 66,
     "metadata": {},
     "output_type": "execute_result"
    }
   ],
   "source": [
    "synthetic_df.head(5)"
   ]
  },
  {
   "cell_type": "code",
   "execution_count": 67,
   "id": "3bf371cd-4fd1-4563-954a-96ee3c853bc6",
   "metadata": {},
   "outputs": [
    {
     "data": {
      "text/plain": [
       "'\\nfor idx, row in synthetic_df.iterrows():\\n    file_path = row[\"image_path\"]\\n    if os.path.isfile(file_path):\\n        continue\\n    else:\\n        print(\"Error\")\\n        break\\n'"
      ]
     },
     "execution_count": 67,
     "metadata": {},
     "output_type": "execute_result"
    }
   ],
   "source": [
    "# Revisar paths correctas\n",
    "\"\"\"\n",
    "for idx, row in synthetic_df.iterrows():\n",
    "    file_path = row[\"image_path\"]\n",
    "    if os.path.isfile(file_path):\n",
    "        continue\n",
    "    else:\n",
    "        print(\"Error\")\n",
    "        break\n",
    "\"\"\""
   ]
  },
  {
   "cell_type": "code",
   "execution_count": 68,
   "id": "693c5091-b20d-48bc-8ad0-7b01bfc8c01c",
   "metadata": {},
   "outputs": [],
   "source": [
    "synthetic_df.to_csv(OUTPUT_SYNTHETIC_DF_PATH, index=False)"
   ]
  },
  {
   "cell_type": "code",
   "execution_count": null,
   "id": "587f24b1-2e43-4264-8a1d-840fd3f6df81",
   "metadata": {},
   "outputs": [],
   "source": []
  }
 ],
 "metadata": {
  "kernelspec": {
   "display_name": "Python 3 (ipykernel)",
   "language": "python",
   "name": "python3"
  },
  "language_info": {
   "codemirror_mode": {
    "name": "ipython",
    "version": 3
   },
   "file_extension": ".py",
   "mimetype": "text/x-python",
   "name": "python",
   "nbconvert_exporter": "python",
   "pygments_lexer": "ipython3",
   "version": "3.10.16"
  }
 },
 "nbformat": 4,
 "nbformat_minor": 5
}
