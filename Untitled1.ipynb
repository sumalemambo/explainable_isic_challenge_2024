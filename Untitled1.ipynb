{
 "cells": [
  {
   "cell_type": "code",
   "execution_count": 1,
   "id": "b29a29f8-ca11-4406-8a7b-63de66ef2f28",
   "metadata": {},
   "outputs": [],
   "source": [
    "import pandas as pd"
   ]
  },
  {
   "cell_type": "code",
   "execution_count": 3,
   "id": "85305720-f835-4ce8-93f9-85dee35789d9",
   "metadata": {},
   "outputs": [],
   "source": [
    "df = pd.read_csv(\"models/edgenext_last_layer/training_history.csv\")"
   ]
  },
  {
   "cell_type": "code",
   "execution_count": 4,
   "id": "9c36bb0a-93e7-4cdb-ace2-6fbc5e56cb7a",
   "metadata": {},
   "outputs": [
    {
     "data": {
      "text/html": [
       "<div>\n",
       "<style scoped>\n",
       "    .dataframe tbody tr th:only-of-type {\n",
       "        vertical-align: middle;\n",
       "    }\n",
       "\n",
       "    .dataframe tbody tr th {\n",
       "        vertical-align: top;\n",
       "    }\n",
       "\n",
       "    .dataframe thead th {\n",
       "        text-align: right;\n",
       "    }\n",
       "</style>\n",
       "<table border=\"1\" class=\"dataframe\">\n",
       "  <thead>\n",
       "    <tr style=\"text-align: right;\">\n",
       "      <th></th>\n",
       "      <th>train_loss</th>\n",
       "      <th>train_auc</th>\n",
       "      <th>train_pr_auc</th>\n",
       "      <th>train_bal_acc</th>\n",
       "      <th>train_f1</th>\n",
       "      <th>train_precision</th>\n",
       "      <th>train_recall</th>\n",
       "      <th>val_loss</th>\n",
       "      <th>val_auc</th>\n",
       "      <th>val_pr_auc</th>\n",
       "      <th>val_bal_acc</th>\n",
       "      <th>val_f1</th>\n",
       "      <th>val_precision</th>\n",
       "      <th>val_recall</th>\n",
       "    </tr>\n",
       "  </thead>\n",
       "  <tbody>\n",
       "    <tr>\n",
       "      <th>0</th>\n",
       "      <td>0.101144</td>\n",
       "      <td>0.982971</td>\n",
       "      <td>0.192274</td>\n",
       "      <td>0.868187</td>\n",
       "      <td>0.882334</td>\n",
       "      <td>0.796677</td>\n",
       "      <td>0.98863</td>\n",
       "      <td>0.444034</td>\n",
       "      <td>0.860728</td>\n",
       "      <td>0.192274</td>\n",
       "      <td>0.868187</td>\n",
       "      <td>0.882334</td>\n",
       "      <td>0.796677</td>\n",
       "      <td>0.98863</td>\n",
       "    </tr>\n",
       "  </tbody>\n",
       "</table>\n",
       "</div>"
      ],
      "text/plain": [
       "   train_loss  train_auc  train_pr_auc  train_bal_acc  train_f1  \\\n",
       "0    0.101144   0.982971      0.192274       0.868187  0.882334   \n",
       "\n",
       "   train_precision  train_recall  val_loss   val_auc  val_pr_auc  val_bal_acc  \\\n",
       "0         0.796677       0.98863  0.444034  0.860728    0.192274     0.868187   \n",
       "\n",
       "     val_f1  val_precision  val_recall  \n",
       "0  0.882334       0.796677     0.98863  "
      ]
     },
     "execution_count": 4,
     "metadata": {},
     "output_type": "execute_result"
    }
   ],
   "source": [
    "df.head()"
   ]
  },
  {
   "cell_type": "code",
   "execution_count": null,
   "id": "ae149d94-10c7-4bba-b3a2-1c418aad6737",
   "metadata": {},
   "outputs": [],
   "source": []
  }
 ],
 "metadata": {
  "kernelspec": {
   "display_name": "Python 3 (ipykernel)",
   "language": "python",
   "name": "python3"
  },
  "language_info": {
   "codemirror_mode": {
    "name": "ipython",
    "version": 3
   },
   "file_extension": ".py",
   "mimetype": "text/x-python",
   "name": "python",
   "nbconvert_exporter": "python",
   "pygments_lexer": "ipython3",
   "version": "3.10.16"
  }
 },
 "nbformat": 4,
 "nbformat_minor": 5
}
