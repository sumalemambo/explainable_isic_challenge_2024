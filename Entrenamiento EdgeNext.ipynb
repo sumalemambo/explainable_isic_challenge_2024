{
 "cells": [
  {
   "cell_type": "code",
   "execution_count": 3,
   "id": "28e86d64-5592-4014-8b34-6c14961b4c15",
   "metadata": {},
   "outputs": [],
   "source": [
    "import os\n",
    "import pandas as pd\n",
    "import torch\n",
    "import torch.nn as nn\n",
    "import torch.optim as optim\n",
    "from torch.utils.data import Dataset, DataLoader\n",
    "from torchvision import transforms\n",
    "from PIL import Image\n",
    "import timm\n",
    "from sklearn.metrics import roc_auc_score, accuracy_score, f1_score, precision_score, recall_score\n",
    "import numpy as np"
   ]
  },
  {
   "cell_type": "code",
   "execution_count": 8,
   "id": "06ae474e-841e-4d5f-b21d-7a5f87a0207a",
   "metadata": {},
   "outputs": [],
   "source": [
    "# Rutas\n",
    "DATA_PATH = \"data/\"\n",
    "ORIGINAL_IMAGE_PATH = os.path.join(DATA_PATH, \"images\")\n",
    "SYNTHETIC_IMAGE_PATH = os.path.join(DATA_PATH, \"synthetic_images\")\n",
    "TRAIN_CSV_PATH = os.path.join(DATA_PATH, \"train_split.csv\")\n",
    "VAL_CSV_PATH = os.path.join(DATA_PATH, \"val_split.csv\")"
   ]
  },
  {
   "cell_type": "code",
   "execution_count": 9,
   "id": "f768b04e-9b26-4716-8df2-1a68ef255018",
   "metadata": {},
   "outputs": [
    {
     "name": "stdout",
     "output_type": "stream",
     "text": [
      "data/images data/synthetic_images data/train_split.csv data/val_split.csv\n"
     ]
    }
   ],
   "source": [
    "print(ORIGINAL_IMAGES_PATH, SYNTHETIC_IMAGE_PATH, TRAIN_CSV_PATH, VAL_CSV_PATH)"
   ]
  },
  {
   "cell_type": "markdown",
   "id": "262ddda5-db26-45b9-bd66-0d9528c67970",
   "metadata": {},
   "source": [
    "## 2. Definición de transformaciones de imagenes"
   ]
  },
  {
   "cell_type": "code",
   "execution_count": 15,
   "id": "3d64c676-51c8-4355-925f-f49d8fb8a6d1",
   "metadata": {},
   "outputs": [],
   "source": [
    "# Obtener data de entrenamiento modelo preentrenado HuggingFace\n",
    "MODEL_NAME = 'edgenext_base.in21k_ft_in1k'\n",
    "model_cfg = timm.get_pretrained_cfg(MODEL_NAME)\n",
    "IMG_SIZE = model_cfg.input_size[1]\n",
    "NORM_MEAN = model_cfg.mean\n",
    "NORM_STD = model_cfg.std"
   ]
  },
  {
   "cell_type": "code",
   "execution_count": 16,
   "id": "687878e4-4800-4640-a42b-1a694aa9adbf",
   "metadata": {},
   "outputs": [],
   "source": [
    "\n",
    "\n",
    "train_transforms = transforms.Compose([\n",
    "    transforms.Resize((IMG_SIZE, IMG_SIZE)),\n",
    "    transforms.RandomHorizontalFlip(p=0.5),\n",
    "    transforms.RandomVerticalFlip(p=0.5),\n",
    "    transforms.RandomRotation(degrees=15),\n",
    "    transforms.ColorJitter(brightness=0.1, contrast=0.1, saturation=0.1, hue=0.05),\n",
    "    transforms.ToTensor(),\n",
    "    transforms.Normalize(mean=NORM_MEAN, std=NORM_STD),\n",
    "])\n",
    "\n",
    "val_transforms = transforms.Compose([\n",
    "    transforms.Resize((IMG_SIZE, IMG_SIZE)),\n",
    "    transforms.ToTensor(),\n",
    "    transforms.Normalize(mean=NORM_MEAN, std=NORM_STD),\n",
    "])"
   ]
  },
  {
   "cell_type": "markdown",
   "id": "866726df-8fe6-4387-9e02-8576233b7b46",
   "metadata": {},
   "source": [
    "## 3. Crear DataLoader"
   ]
  },
  {
   "cell_type": "code",
   "execution_count": null,
   "id": "11ab45f6-5bff-41b8-9c0c-65c396cca8bc",
   "metadata": {},
   "outputs": [],
   "source": []
  }
 ],
 "metadata": {
  "kernelspec": {
   "display_name": "Python 3 (ipykernel)",
   "language": "python",
   "name": "python3"
  },
  "language_info": {
   "codemirror_mode": {
    "name": "ipython",
    "version": 3
   },
   "file_extension": ".py",
   "mimetype": "text/x-python",
   "name": "python",
   "nbconvert_exporter": "python",
   "pygments_lexer": "ipython3",
   "version": "3.10.16"
  }
 },
 "nbformat": 4,
 "nbformat_minor": 5
}
